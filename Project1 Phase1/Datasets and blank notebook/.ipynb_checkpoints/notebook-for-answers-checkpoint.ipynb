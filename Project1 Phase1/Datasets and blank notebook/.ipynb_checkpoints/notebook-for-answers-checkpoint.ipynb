{
 "cells": [
  {
   "cell_type": "code",
   "execution_count": 1,
   "metadata": {
    "collapsed": true,
    "deletable": true,
    "editable": true
   },
   "outputs": [],
   "source": [
    "#student number: 737008\n",
    "#student name: Siyi Guo\n",
    "#Created data: 23/3/2017\n",
    "#COMP20008 project phase1"
   ]
  },
  {
   "cell_type": "code",
   "execution_count": 2,
   "metadata": {
    "collapsed": true,
    "deletable": true,
    "editable": true
   },
   "outputs": [],
   "source": [
    "#library setup\n",
    "import pandas as pd\n",
    "import matplotlib.pyplot as plt"
   ]
  },
  {
   "cell_type": "markdown",
   "metadata": {
    "deletable": true,
    "editable": true
   },
   "source": [
    "# Answer to 1.1"
   ]
  },
  {
   "cell_type": "code",
   "execution_count": 3,
   "metadata": {
    "collapsed": false,
    "deletable": true,
    "editable": true
   },
   "outputs": [],
   "source": [
    "#do this for January\n",
    "raw_1 = pd.read_csv('raw-january.csv')\n",
    "duration = pd.to_datetime(raw_1['dropoff_datetime'], format = '%d/%m/%y %H:%M')-pd.to_datetime(raw_1['pickup_datetime'],format = '%d/%m/%y %H:%M') \n",
    "#delete a column, axis = 1 means columns and 0 for rows\n",
    "January = raw_1.drop(['pickup_datetime', 'dropoff_datetime'], axis = 1)\n",
    "\n",
    "#raw_1['Duration'] = pd.Series(duration.astype('timedelta64[m]'))\n",
    "#convert the duration into minutes\n",
    "January.insert(0, 'duration', pd.Series(duration.astype('timedelta64[m]')))\n",
    "January.columns = [\"Duration\", \"Trip_distance\", \"Passenger_count\", \"Payment_amount\"]"
   ]
  },
  {
   "cell_type": "code",
   "execution_count": 4,
   "metadata": {
    "collapsed": true,
    "deletable": true,
    "editable": true
   },
   "outputs": [],
   "source": [
    "#do a similar thing for June\n",
    "raw_6 = pd.read_csv('raw-june.csv')\n",
    "duration = pd.to_datetime(raw_6['dropoff_datetime'], format = '%d/%m/%y %H:%M')-pd.to_datetime(raw_6['pickup_datetime'],format = '%d/%m/%y %H:%M')\n",
    "#delete a column, axis = 1 means columns and 0 for rows\n",
    "June = raw_6.drop(['pickup_datetime', 'dropoff_datetime'], axis = 1)\n",
    "\n",
    "#raw_1['Duration'] = pd.Series(duration.astype('timedelta64[m]'))\n",
    "#convert the duration into minutes\n",
    "June.insert(0, 'duration', pd.Series(duration.astype('timedelta64[m]')))\n",
    "June.columns = [\"Duration\", \"Trip_distance\", \"Passenger_count\", \"Payment_amount\"]"
   ]
  },
  {
   "cell_type": "markdown",
   "metadata": {
    "deletable": true,
    "editable": true
   },
   "source": [
    "# Answer to 1.2"
   ]
  },
  {
   "cell_type": "code",
   "execution_count": 5,
   "metadata": {
    "collapsed": false,
    "deletable": true,
    "editable": true
   },
   "outputs": [
    {
     "name": "stdout",
     "output_type": "stream",
     "text": [
      "************************ MeanTripDistance ************************\n",
      "January: 2.882933555822452\n",
      "   June: 3.047047550626379\n",
      "******************************************************************\n"
     ]
    }
   ],
   "source": [
    "#there are 66 star for the bottome line\n",
    "#mean trip distance\n",
    "Title = 'MeanTripDistance'\n",
    "star_num = int((66-len(Title))/2) - 1\n",
    "print ('*' * star_num, Title, '*' * star_num)\n",
    "print ('January:', January['Trip_distance'].mean())\n",
    "print ('   June:', June['Trip_distance'].mean())\n",
    "print ('*' * 66)"
   ]
  },
  {
   "cell_type": "code",
   "execution_count": 6,
   "metadata": {
    "collapsed": false,
    "deletable": true,
    "editable": true
   },
   "outputs": [
    {
     "name": "stdout",
     "output_type": "stream",
     "text": [
      "************************ MeanTripDuratione ***********************\n",
      "January: 14.95795322227214\n",
      "   June: 17.001688294194242\n",
      "******************************************************************\n"
     ]
    }
   ],
   "source": [
    "#mean trip duration\n",
    "Title = 'MeanTripDuratione'\n",
    "star_num = int((66-len(Title))/2)\n",
    "print ('*' * star_num, Title,'*' * (star_num - 1))\n",
    "print ('January:', January['Duration'].mean())\n",
    "print ('   June:', June['Duration'].mean())\n",
    "print ('*' * 66)"
   ]
  },
  {
   "cell_type": "code",
   "execution_count": 7,
   "metadata": {
    "collapsed": false,
    "deletable": true,
    "editable": true
   },
   "outputs": [
    {
     "name": "stdout",
     "output_type": "stream",
     "text": [
      "*********************** MeanTripPassenger ************************\n",
      "January: 1.6685584354857934\n",
      "   June: 1.658371873737147\n",
      "******************************************************************\n"
     ]
    }
   ],
   "source": [
    "#mean trip passenger\n",
    "Title = 'MeanTripPassenger'\n",
    "star_num = int((66-len(Title))/2) - 1\n",
    "print ('*' * star_num, Title, '*' * (star_num + 1))\n",
    "print ('January:', January['Passenger_count'].mean())\n",
    "print ('   June:', June['Passenger_count'].mean())\n",
    "print ('*' * 66)"
   ]
  },
  {
   "cell_type": "markdown",
   "metadata": {
    "collapsed": true,
    "deletable": true,
    "editable": true
   },
   "source": [
    "# Answer to 1.3"
   ]
  },
  {
   "cell_type": "code",
   "execution_count": 8,
   "metadata": {
    "collapsed": false,
    "deletable": true,
    "editable": true
   },
   "outputs": [
    {
     "data": {
      "image/png": "[encoded data removed]",
      "text/plain": [
       "<matplotlib.figure.Figure at 0x1616536c1d0>"
      ]
     },
     "metadata": {},
     "output_type": "display_data"
    }
   ],
   "source": [
    "#Duration\n",
    "#merge the data column\n",
    "result = pd.concat([January['Duration'], June['Duration']], axis=1, join='inner')\n",
    "#change the heading\n",
    "result.columns = ['January', 'June']\n",
    "result.plot.box()\n",
    "plt.show()"
   ]
  },
  {
   "cell_type": "code",
   "execution_count": 9,
   "metadata": {
    "collapsed": false,
    "deletable": true,
    "editable": true,
    "scrolled": true
   },
   "outputs": [
    {
     "data": {
      "image/png": "[encoded data removed]",
      "text/plain": [
       "<matplotlib.figure.Figure at 0x16168e36dd8>"
      ]
     },
     "metadata": {},
     "output_type": "display_data"
    }
   ],
   "source": [
    "#Distance\n",
    "#merge the data column\n",
    "result = pd.concat([January['Trip_distance'], June['Trip_distance']], axis=1, join='inner')\n",
    "#change the heading\n",
    "result.columns = ['January', 'June']\n",
    "result.plot.box()\n",
    "plt.show()"
   ]
  },
  {
   "cell_type": "code",
   "execution_count": 10,
   "metadata": {
    "collapsed": false,
    "deletable": true,
    "editable": true,
    "scrolled": true
   },
   "outputs": [
    {
     "data": {
      "image/png": "[encoded data removed]",
      "text/plain": [
       "<matplotlib.figure.Figure at 0x16168ea6240>"
      ]
     },
     "metadata": {},
     "output_type": "display_data"
    }
   ],
   "source": [
    "#Trip Fare\n",
    "#merge the data column\n",
    "result = pd.concat([January['Payment_amount'], June['Payment_amount']], axis=1, join='inner')\n",
    "#change the heading\n",
    "result.columns = ['January', 'June']\n",
    "result.plot.box()\n",
    "plt.show()"
   ]
  },
  {
   "cell_type": "markdown",
   "metadata": {
    "collapsed": true,
    "deletable": true,
    "editable": true
   },
   "source": [
    "# Answer to 1.4"
   ]
  },
  {
   "cell_type": "code",
   "execution_count": 42,
   "metadata": {
    "collapsed": true,
    "deletable": true,
    "editable": true
   },
   "outputs": [],
   "source": [
    "#Answer to 1.4.1\n",
    "#since most data in this data set is 1 to 4 people, we focues\n",
    "#our research on the normal 5-seat car\n",
    "RPassenger = [1,4]\n",
    "#since maxium is 30 kilometer, the duration should be less than 40 minutes\n",
    "RDuration = [0,40]\n",
    "#normal's range for a taxi is 0 to 30 kilometer\n",
    "RTrip_dist = [0,30]\n",
    "#taxi that charges more than 100 dollars is robbing\n",
    "RPayment_amount = [1,100]"
   ]
  },
  {
   "cell_type": "code",
   "execution_count": 43,
   "metadata": {
    "collapsed": false,
    "deletable": true,
    "editable": true
   },
   "outputs": [
    {
     "name": "stdout",
     "output_type": "stream",
     "text": [
      "***********************************************************************************\n",
      "2.55% of instances in Duration are noisy! (normal range is between 0 and 40)\n",
      "***********************************************************************************\n",
      "***********************************************************************************\n",
      "0.03% of instances in Trip_distance are noisy! (normal range is between 0 and 30)\n",
      "***********************************************************************************\n",
      "***********************************************************************************\n",
      "8.84% of instances in Passenger_count are noisy! (normal range is between 1 and 4)\n",
      "***********************************************************************************\n",
      "***********************************************************************************\n",
      "0.22% of instances in Payment_amount are noisy! (normal range is between 1 and 100)\n",
      "***********************************************************************************\n"
     ]
    }
   ],
   "source": [
    "#Answer to 1.4.2\n",
    "def noise_ratio(dataframe, title, Rnormal):\n",
    "    min_valid = Rnormal[0]\n",
    "    max_valid = Rnormal[1]\n",
    "    dataset = dataframe[title]\n",
    "    \n",
    "    Total_num = 0\n",
    "    noise_num = 0\n",
    "    for data in dataset:\n",
    "        if data < min_valid or data > max_valid:\n",
    "            noise_num +=1\n",
    "        Total_num +=1\n",
    "    print('*' * 83)\n",
    "    print(\"{}% of instances in {} are noisy! (normal range is between {} and {})\".format(round(noise_num / Total_num *100, 2), title, min_valid, max_valid))\n",
    "    print('*' * 83)\n",
    "\n",
    "noise_ratio(January, \"Duration\", RDuration)\n",
    "noise_ratio(January, \"Trip_distance\", RTrip_dist)\n",
    "noise_ratio(January, \"Passenger_count\", RPassenger)\n",
    "noise_ratio(January, \"Payment_amount\", RPayment_amount)"
   ]
  },
  {
   "cell_type": "code",
   "execution_count": 56,
   "metadata": {
    "collapsed": false
   },
   "outputs": [
    {
     "name": "stdout",
     "output_type": "stream",
     "text": [
      "(109069,)\n"
     ]
    },
    {
     "ename": "TypeError",
     "evalue": "__call__() takes from 1 to 2 positional arguments but 3 were given",
     "output_type": "error",
     "traceback": [
      "\u001b[0;31m---------------------------------------------------------------------------\u001b[0m",
      "\u001b[0;31mTypeError\u001b[0m                                 Traceback (most recent call last)",
      "\u001b[0;32m<ipython-input-56-9e3cc6ec1f3e>\u001b[0m in \u001b[0;36m<module>\u001b[0;34m()\u001b[0m\n\u001b[1;32m     14\u001b[0m         \u001b[0mTotal_num\u001b[0m \u001b[1;33m+=\u001b[0m\u001b[1;36m1\u001b[0m\u001b[1;33m\u001b[0m\u001b[0m\n\u001b[1;32m     15\u001b[0m \u001b[1;33m\u001b[0m\u001b[0m\n\u001b[0;32m---> 16\u001b[0;31m \u001b[0mreplace_mean\u001b[0m\u001b[1;33m(\u001b[0m\u001b[0mJanuary\u001b[0m\u001b[1;33m,\u001b[0m \u001b[1;34m\"Duration\"\u001b[0m\u001b[1;33m,\u001b[0m \u001b[0mRDuration\u001b[0m\u001b[1;33m)\u001b[0m\u001b[1;33m\u001b[0m\u001b[0m\n\u001b[0m\u001b[1;32m     17\u001b[0m \u001b[0mreplace_mean\u001b[0m\u001b[1;33m(\u001b[0m\u001b[0mJanuary\u001b[0m\u001b[1;33m,\u001b[0m \u001b[1;34m\"Trip_distance\"\u001b[0m\u001b[1;33m,\u001b[0m \u001b[0mRTrip_dist\u001b[0m\u001b[1;33m)\u001b[0m\u001b[1;33m\u001b[0m\u001b[0m\n\u001b[1;32m     18\u001b[0m \u001b[0mreplace_mean\u001b[0m\u001b[1;33m(\u001b[0m\u001b[0mJanuary\u001b[0m\u001b[1;33m,\u001b[0m \u001b[1;34m\"Passenger_count\"\u001b[0m\u001b[1;33m,\u001b[0m \u001b[0mRPassenger\u001b[0m\u001b[1;33m)\u001b[0m\u001b[1;33m\u001b[0m\u001b[0m\n",
      "\u001b[0;32m<ipython-input-56-9e3cc6ec1f3e>\u001b[0m in \u001b[0;36mreplace_mean\u001b[0;34m(dataframe, title, Rnormal)\u001b[0m\n\u001b[1;32m      9\u001b[0m     \u001b[0mprint\u001b[0m\u001b[1;33m(\u001b[0m\u001b[0mdataset\u001b[0m\u001b[1;33m.\u001b[0m\u001b[0mshape\u001b[0m\u001b[1;33m)\u001b[0m\u001b[1;33m\u001b[0m\u001b[0m\n\u001b[1;32m     10\u001b[0m     \u001b[1;32mfor\u001b[0m \u001b[0mi\u001b[0m \u001b[1;32min\u001b[0m \u001b[0mrange\u001b[0m\u001b[1;33m(\u001b[0m\u001b[0mdataset\u001b[0m\u001b[1;33m.\u001b[0m\u001b[0mshape\u001b[0m\u001b[1;33m[\u001b[0m\u001b[1;36m0\u001b[0m\u001b[1;33m]\u001b[0m\u001b[1;33m)\u001b[0m\u001b[1;33m:\u001b[0m\u001b[1;33m\u001b[0m\u001b[0m\n\u001b[0;32m---> 11\u001b[0;31m         \u001b[0mdata\u001b[0m \u001b[1;33m=\u001b[0m \u001b[0mdataframe\u001b[0m\u001b[1;33m.\u001b[0m\u001b[0mloc\u001b[0m\u001b[1;33m(\u001b[0m\u001b[0mdataframe\u001b[0m\u001b[1;33m[\u001b[0m\u001b[0mtitle\u001b[0m\u001b[1;33m]\u001b[0m\u001b[1;33m,\u001b[0m \u001b[0mi\u001b[0m\u001b[1;33m)\u001b[0m\u001b[1;33m\u001b[0m\u001b[0m\n\u001b[0m\u001b[1;32m     12\u001b[0m         \u001b[1;32mif\u001b[0m \u001b[0mdata\u001b[0m \u001b[1;33m<\u001b[0m \u001b[0mmin_valid\u001b[0m \u001b[1;32mor\u001b[0m \u001b[0mdata\u001b[0m \u001b[1;33m>\u001b[0m \u001b[0mmax_valid\u001b[0m\u001b[1;33m:\u001b[0m\u001b[1;33m\u001b[0m\u001b[0m\n\u001b[1;32m     13\u001b[0m             \u001b[0mnoise_num\u001b[0m \u001b[1;33m+=\u001b[0m\u001b[1;36m1\u001b[0m\u001b[1;33m\u001b[0m\u001b[0m\n",
      "\u001b[0;31mTypeError\u001b[0m: __call__() takes from 1 to 2 positional arguments but 3 were given"
     ]
    }
   ],
   "source": [
    "#Answer to 1.4.3\n",
    "def replace_mean(dataframe, title, Rnormal):\n",
    "    min_valid = Rnormal[0]\n",
    "    max_valid = Rnormal[1]\n",
    "    dataset = dataframe[title]\n",
    "    \n",
    "    Total_num = 0\n",
    "    noise_num = 0\n",
    "    print(dataset.shape)\n",
    "    for i in range(dataset.shape[0]):\n",
    "        data = dataframe.loc(dataframe[title], i)\n",
    "        if data < min_valid or data > max_valid:\n",
    "            noise_num +=1\n",
    "        Total_num +=1\n",
    "\n",
    "replace_mean(January, \"Duration\", RDuration)\n",
    "replace_mean(January, \"Trip_distance\", RTrip_dist)\n",
    "replace_mean(January, \"Passenger_count\", RPassenger)\n",
    "replace_mean(January, \"Payment_amount\", RPayment_amount)"
   ]
  },
  {
   "cell_type": "code",
   "execution_count": null,
   "metadata": {
    "collapsed": true,
    "deletable": true,
    "editable": true
   },
   "outputs": [],
   "source": [
    "#Answer to 2.1"
   ]
  },
  {
   "cell_type": "code",
   "execution_count": null,
   "metadata": {
    "collapsed": true,
    "deletable": true,
    "editable": true
   },
   "outputs": [],
   "source": [
    "#Answer to 2.2"
   ]
  },
  {
   "cell_type": "code",
   "execution_count": null,
   "metadata": {
    "collapsed": true,
    "deletable": true,
    "editable": true
   },
   "outputs": [],
   "source": [
    "#Answer to 2.3"
   ]
  }
 ],
 "metadata": {
  "anaconda-cloud": {},
  "kernelspec": {
   "display_name": "Python [default]",
   "language": "python",
   "name": "python3"
  },
  "language_info": {
   "codemirror_mode": {
    "name": "ipython",
    "version": 3
   },
   "file_extension": ".py",
   "mimetype": "text/x-python",
   "name": "python",
   "nbconvert_exporter": "python",
   "pygments_lexer": "ipython3",
   "version": "3.5.2"
  }
 },
 "nbformat": 4,
 "nbformat_minor": 0
}
