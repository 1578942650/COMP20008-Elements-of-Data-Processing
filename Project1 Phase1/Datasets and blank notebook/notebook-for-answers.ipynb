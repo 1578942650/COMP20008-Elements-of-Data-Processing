{
 "cells": [
  {
   "cell_type": "code",
   "execution_count": 1,
   "metadata": {
    "collapsed": true,
    "deletable": true,
    "editable": true
   },
   "outputs": [],
   "source": [
    "#student number: 737008\n",
    "#student name: Siyi Guo\n",
    "#Created data: 23/3/2017\n",
    "#COMP20008 project phase1"
   ]
  },
  {
   "cell_type": "code",
   "execution_count": 2,
   "metadata": {
    "collapsed": true,
    "deletable": true,
    "editable": true
   },
   "outputs": [],
   "source": [
    "#library setup\n",
    "import pandas as pd\n",
    "import matplotlib.pyplot as plt"
   ]
  },
  {
   "cell_type": "markdown",
   "metadata": {
    "deletable": true,
    "editable": true
   },
   "source": [
    "# Answer to 1.1"
   ]
  },
  {
   "cell_type": "code",
   "execution_count": 3,
   "metadata": {
    "collapsed": false,
    "deletable": true,
    "editable": true
   },
   "outputs": [],
   "source": [
    "#do this for January\n",
    "raw_1 = pd.read_csv('raw-january.csv')\n",
    "duration = pd.to_datetime(raw_1['dropoff_datetime'], format = '%d/%m/%y %H:%M')-pd.to_datetime(raw_1['pickup_datetime'],format = '%d/%m/%y %H:%M') \n",
    "#delete a column, axis = 1 means columns and 0 for rows\n",
    "January = raw_1.drop(['pickup_datetime', 'dropoff_datetime'], axis = 1)\n",
    "\n",
    "#convert the duration into minutes\n",
    "January.insert(0, 'duration', pd.Series(duration.astype('timedelta64[m]')))\n",
    "#change the heading into format Index Duration Trip_distance Passenger_count Payment_amount\n",
    "January.columns = [\"Duration\", \"Trip_distance\", \"Passenger_count\", \"Payment_amount\"]\n",
    "January.columns.name = \"Index\""
   ]
  },
  {
   "cell_type": "code",
   "execution_count": 4,
   "metadata": {
    "collapsed": false,
    "deletable": true,
    "editable": true
   },
   "outputs": [],
   "source": [
    "#do a similar thing for June\n",
    "raw_6 = pd.read_csv('raw-june.csv')\n",
    "duration = pd.to_datetime(raw_6['dropoff_datetime'], format = '%d/%m/%y %H:%M')-pd.to_datetime(raw_6['pickup_datetime'],format = '%d/%m/%y %H:%M')\n",
    "#delete a column, axis = 1 means columns and 0 for rows\n",
    "June = raw_6.drop(['pickup_datetime', 'dropoff_datetime'], axis = 1)\n",
    "\n",
    "#convert the duration into minutes\n",
    "June.insert(0, 'duration', pd.Series(duration.astype('timedelta64[m]')))\n",
    "#change the heading into format Index Duration Trip_distance Passenger_count Payment_amount\n",
    "June.columns = [\"Duration\", \"Trip_distance\", \"Passenger_count\", \"Payment_amount\"]\n",
    "June.columns.name = \"Index\""
   ]
  },
  {
   "cell_type": "markdown",
   "metadata": {
    "deletable": true,
    "editable": true
   },
   "source": [
    "# Answer to 1.2"
   ]
  },
  {
   "cell_type": "code",
   "execution_count": 5,
   "metadata": {
    "collapsed": true,
    "deletable": true,
    "editable": true
   },
   "outputs": [],
   "source": [
    "#in this part wwe find out the mean for January and June's category of Trip distance, trip duration and Passenger"
   ]
  },
  {
   "cell_type": "code",
   "execution_count": 6,
   "metadata": {
    "collapsed": false,
    "deletable": true,
    "editable": true
   },
   "outputs": [
    {
     "name": "stdout",
     "output_type": "stream",
     "text": [
      "************************ MeanTripDistance ************************\n",
      "January: 2.88293355582\n",
      "   June: 3.04704755063\n",
      "******************************************************************\n"
     ]
    }
   ],
   "source": [
    "#there are 66 star for the bottome line\n",
    "#print out mean trip distance for both June and January\n",
    "Title = 'MeanTripDistance'\n",
    "star_num = int((66-len(Title))/2) - 1\n",
    "print ('*' * star_num, Title, '*' * star_num)\n",
    "print ('January:', January['Trip_distance'].mean())\n",
    "print ('   June:', June['Trip_distance'].mean())\n",
    "print ('*' * 66)"
   ]
  },
  {
   "cell_type": "code",
   "execution_count": 7,
   "metadata": {
    "collapsed": false,
    "deletable": true,
    "editable": true
   },
   "outputs": [
    {
     "name": "stdout",
     "output_type": "stream",
     "text": [
      "************************ MeanTripDuratione ***********************\n",
      "January: 14.9579532223\n",
      "   June: 17.0016882942\n",
      "******************************************************************\n"
     ]
    }
   ],
   "source": [
    "#print out mean trip duration for both June and January\n",
    "Title = 'MeanTripDuratione'\n",
    "star_num = int((66-len(Title))/2)\n",
    "print ('*' * star_num, Title,'*' * (star_num - 1))\n",
    "print ('January:', January['Duration'].mean())\n",
    "print ('   June:', June['Duration'].mean())\n",
    "print ('*' * 66)"
   ]
  },
  {
   "cell_type": "code",
   "execution_count": 8,
   "metadata": {
    "collapsed": false,
    "deletable": true,
    "editable": true
   },
   "outputs": [
    {
     "name": "stdout",
     "output_type": "stream",
     "text": [
      "*********************** MeanTripPassenger ************************\n",
      "January: 1.66855843549\n",
      "   June: 1.65837187374\n",
      "******************************************************************\n"
     ]
    }
   ],
   "source": [
    "#print out mean trip passenger for both June and January\n",
    "Title = 'MeanTripPassenger'\n",
    "star_num = int((66-len(Title))/2) - 1\n",
    "print ('*' * star_num, Title, '*' * (star_num + 1))\n",
    "print ('January:', January['Passenger_count'].mean())\n",
    "print ('   June:', June['Passenger_count'].mean())\n",
    "print ('*' * 66)"
   ]
  },
  {
   "cell_type": "markdown",
   "metadata": {
    "collapsed": true,
    "deletable": true,
    "editable": true
   },
   "source": [
    "# Answer to 1.3"
   ]
  },
  {
   "cell_type": "code",
   "execution_count": 9,
   "metadata": {
    "collapsed": true,
    "deletable": true,
    "editable": true
   },
   "outputs": [],
   "source": [
    "#in this part we use boxplot to compare June's data and January's for category of \n",
    "#Duration Trip_distance and Payment_amount\n",
    "#each category has one boxplot"
   ]
  },
  {
   "cell_type": "code",
   "execution_count": 10,
   "metadata": {
    "collapsed": false,
    "deletable": true,
    "editable": true
   },
   "outputs": [
    {
     "data": {
      "image/png": "[encoded data removed]",
      "text/plain": [
       "<matplotlib.figure.Figure at 0x2300a5d62b0>"
      ]
     },
     "metadata": {},
     "output_type": "display_data"
    }
   ],
   "source": [
    "#Duration\n",
    "#merge 2 data series into one dataframe\n",
    "result = pd.concat([January['Duration'], June['Duration']], axis=1, join='inner')\n",
    "#change the heading\n",
    "result.columns = ['January', 'June']\n",
    "#show the graph\n",
    "result.boxplot()\n",
    "plt.title(\"Duration (in minutes)\")\n",
    "plt.show()"
   ]
  },
  {
   "cell_type": "code",
   "execution_count": 11,
   "metadata": {
    "collapsed": false,
    "deletable": true,
    "editable": true,
    "scrolled": true
   },
   "outputs": [
    {
     "data": {
      "image/png": "[encoded data removed]",
      "text/plain": [
       "<matplotlib.figure.Figure at 0x2300a8181d0>"
      ]
     },
     "metadata": {},
     "output_type": "display_data"
    }
   ],
   "source": [
    "#Distance\n",
    "#merge 2 data series into one data frame\n",
    "result = pd.concat([January['Trip_distance'], June['Trip_distance']], axis=1, join='inner')\n",
    "#change the heading\n",
    "result.columns = ['January', 'June']\n",
    "#plot and show the graph\n",
    "result.boxplot()\n",
    "plt.title(\"Distance (in KM)\")\n",
    "plt.show()"
   ]
  },
  {
   "cell_type": "code",
   "execution_count": 12,
   "metadata": {
    "collapsed": false,
    "deletable": true,
    "editable": true,
    "scrolled": true
   },
   "outputs": [
    {
     "data": {
      "image/png": "[encoded data removed]",
      "text/plain": [
       "<matplotlib.figure.Figure at 0x2300e6aa7f0>"
      ]
     },
     "metadata": {},
     "output_type": "display_data"
    }
   ],
   "source": [
    "#Trip Fare\n",
    "#merge the data column into one data frame\n",
    "result = pd.concat([January['Payment_amount'], June['Payment_amount']], axis=1, join='inner')\n",
    "#change the heading\n",
    "result.columns = ['January', 'June']\n",
    "#show the graph\n",
    "result.boxplot()\n",
    "plt.title(\"Payment Amount in $\")\n",
    "plt.show()"
   ]
  },
  {
   "cell_type": "markdown",
   "metadata": {
    "collapsed": true,
    "deletable": true,
    "editable": true
   },
   "source": [
    "# Answer to 1.4"
   ]
  },
  {
   "cell_type": "code",
   "execution_count": 13,
   "metadata": {
    "collapsed": true,
    "deletable": true,
    "editable": true
   },
   "outputs": [],
   "source": [
    "#in this part we do two thins:\n",
    "#1 find out the noise data ratio\n",
    "#2 replace this data with the mean of that category"
   ]
  },
  {
   "cell_type": "code",
   "execution_count": 13,
   "metadata": {
    "collapsed": true,
    "deletable": true,
    "editable": true
   },
   "outputs": [],
   "source": [
    "#Answer to 1.4.1\n",
    "#since most data in this data set is 1 to 4 people, we focues\n",
    "#our research on the normal 5-seat car\n",
    "RPassenger = [1,4]\n",
    "#since maxium is 30 kilometer, the duration should be less than 40 minutes given the speed of taxi is 60km/hour\n",
    "#and some traffic jam time\n",
    "#and not many people take taxi if only for 4 minutes' drive\n",
    "RDuration = [5,40]\n",
    "#normal's range for a taxi is 0 to 30 kilometer, this is also the distance from airport to the CBD\n",
    "#beyong this range, most people just drive by themselves\n",
    "#or the rare case which someone insisit for taxi, we can regard this abnormal as noise data\n",
    "#1 km trip distance is equal to 10 minutes walk, pointless to take taxi\n",
    "RTrip_dist = [1,30]\n",
    "#Under this normal range, the price for per kilometer is 3.333dolar. Taxi that beyond this price is not\n",
    "#consider as the normal taxi, even taken the traffic jam factor into account\n",
    "#so this should be a normal range\n",
    "#where 2.5 dollar is the staring fee for taxi\n",
    "RPayment_amount = [2.5,100]"
   ]
  },
  {
   "cell_type": "code",
   "execution_count": 14,
   "metadata": {
    "collapsed": false,
    "deletable": true,
    "editable": true,
    "scrolled": true
   },
   "outputs": [
    {
     "name": "stdout",
     "output_type": "stream",
     "text": [
      "***********************************************************************************\n",
      "16.09% of instances in Duration are noisy! (normal range is between 5 and 40)\n",
      "***********************************************************************************\n",
      "***********************************************************************************\n",
      "24.57% of instances in Trip_distance are noisy! (normal range is between 1 and 30)\n",
      "***********************************************************************************\n",
      "***********************************************************************************\n",
      "8.84% of instances in Passenger_count are noisy! (normal range is between 1 and 4)\n",
      "***********************************************************************************\n",
      "***********************************************************************************\n",
      "0.22% of instances in Payment_amount are noisy! (normal range is between 2.5 and 100)\n",
      "***********************************************************************************\n"
     ]
    }
   ],
   "source": [
    "#Answer to 1.4.2\n",
    "#in this part we found out the noise ratio in the data set given normal range we have set up in 1.4.1\n",
    "def noise_ratio(dataframe, title, Rnormal):\n",
    "    min_valid = Rnormal[0]\n",
    "    max_valid = Rnormal[1]\n",
    "    dataset = dataframe[title]\n",
    "    \n",
    "    #find out the total number of data in this dataframe\n",
    "    #dataframe.shape return a tuple in the form (number of rows, number of columns)\n",
    "    #take shaoe[0] so that we know how many data are there\n",
    "    Total_num = dataset.shape[0]\n",
    "    #find out the noise data series that is smalled then minimum valie or bigger than maximum valid\n",
    "    #then thake the shape of this serise\n",
    "    noise_num = dataset.loc[(dataset < min_valid) | (dataset > max_valid)].shape[0]\n",
    "    \n",
    "    percentage = noise_num / Total_num *100\n",
    "        \n",
    "    print('*' * 83)\n",
    "    print(\"{}% of instances in {} are noisy! (normal range is between {} and {})\".format(round(percentage, 2), title, min_valid, max_valid))\n",
    "    print('*' * 83)\n",
    "\n",
    "noise_ratio(January, \"Duration\", RDuration)\n",
    "noise_ratio(January, \"Trip_distance\", RTrip_dist)\n",
    "noise_ratio(January, \"Passenger_count\", RPassenger)\n",
    "noise_ratio(January, \"Payment_amount\", RPayment_amount)"
   ]
  },
  {
   "cell_type": "code",
   "execution_count": 15,
   "metadata": {
    "collapsed": false,
    "deletable": true,
    "editable": true,
    "scrolled": false
   },
   "outputs": [],
   "source": [
    "#Answer to 1.4.3    \n",
    "#in this part we replace all noise data with the mean value of valid data under that category\n",
    "#note this part will done irrevisible change to the January data set\n",
    "#which mean this can only run once, for the second time running please read row_january dataset again.\n",
    "def replace_mean(dataframe, title, Rnormal):\n",
    "    min_valid = Rnormal[0]\n",
    "    max_valid = Rnormal[1]\n",
    "    \n",
    "    #locate valid data\n",
    "    valid_data = dataframe.loc[(dataframe[title] >= min_valid) & (dataframe[title] <= max_valid)]\n",
    "    #find out the mean of the valid data\n",
    "    data_mean = valid_data[title].mean()\n",
    "    #replace noise data with mean\n",
    "    dataframe.loc[dataframe[title] < min_valid, title] = data_mean\n",
    "    dataframe.loc[dataframe[title] > max_valid, title] = data_mean\n",
    "           \n",
    "            \n",
    "replace_mean(January, \"Duration\", RDuration)\n",
    "replace_mean(January, \"Trip_distance\", RTrip_dist)\n",
    "replace_mean(January, \"Passenger_count\", RPassenger)\n",
    "replace_mean(January, \"Payment_amount\", RPayment_amount)"
   ]
  },
  {
   "cell_type": "markdown",
   "metadata": {
    "deletable": true,
    "editable": true
   },
   "source": [
    "# Question 2"
   ]
  },
  {
   "cell_type": "markdown",
   "metadata": {
    "deletable": true,
    "editable": true
   },
   "source": [
    "# Answer to 1"
   ]
  },
  {
   "cell_type": "code",
   "execution_count": 16,
   "metadata": {
    "collapsed": false,
    "deletable": true,
    "editable": true
   },
   "outputs": [],
   "source": [
    "clean_January = pd.read_csv(\"clean-january.csv\")\n",
    "#dt.dayofweek output Monday 0 and 6 for Sunday, divide this number by 5, and 0-4 will become 0, 5-6 become 1\n",
    "#this coorespond to that weekday represent as 0 and weekend as 1\n",
    "isWeekend = pd.to_datetime(clean_January[\"pickup_datetime\"], format = '%d/%m/%y %H:%M').dt.dayofweek // 5\n",
    "#since 6 is the last column in data set\n",
    "clean_January.insert(6, 'isWeekend', isWeekend)"
   ]
  },
  {
   "cell_type": "code",
   "execution_count": 17,
   "metadata": {
    "collapsed": false,
    "deletable": true,
    "editable": true
   },
   "outputs": [
    {
     "name": "stdout",
     "output_type": "stream",
     "text": [
      "******************************************************************\n",
      "% of weekend trips=29.1\n",
      "******************************************************************\n"
     ]
    }
   ],
   "source": [
    "#datafram.shepe return a tuple that is in the form(number of rows, number of columns)\n",
    "weekend_trip = clean_January[\"isWeekend\"].loc[clean_January[\"isWeekend\"] == 1].shape[0]\n",
    "total_trip = clean_January[\"isWeekend\"].shape[0]\n",
    "\n",
    "print('*' * 66)\n",
    "print(\"% of weekend trips={}\".format(round(weekend_trip/total_trip * 100, 1)))\n",
    "print('*' * 66)  "
   ]
  },
  {
   "cell_type": "markdown",
   "metadata": {
    "collapsed": true,
    "deletable": true,
    "editable": true
   },
   "source": [
    "# Answer to 2"
   ]
  },
  {
   "cell_type": "code",
   "execution_count": 18,
   "metadata": {
    "collapsed": true,
    "deletable": true,
    "editable": true
   },
   "outputs": [],
   "source": [
    "#in this part we use histogram to plot the weekend trip and weekday trips\n",
    "#over 24 hours and shows the frequency of trips in this hours"
   ]
  },
  {
   "cell_type": "code",
   "execution_count": 19,
   "metadata": {
    "collapsed": false,
    "deletable": true,
    "editable": true
   },
   "outputs": [
    {
     "data": {
      "image/png": "[encoded data removed]",
      "text/plain": [
       "<matplotlib.figure.Figure at 0x2300dfd3cc0>"
      ]
     },
     "metadata": {},
     "output_type": "display_data"
    }
   ],
   "source": [
    "pick_up_weekend = pd.to_datetime(clean_January[\"pickup_datetime\"].loc[clean_January[\"isWeekend\"] == 1], format = '%d/%m/%y %H:%M').dt.hour\n",
    "pick_up_weekend.plot.hist(bins = [0,6,9,12,16,20,24], xticks = [0,6,9,12,16,20,24])\n",
    "plt.title(\"Weekend Trip\")\n",
    "plt.show()"
   ]
  },
  {
   "cell_type": "code",
   "execution_count": 20,
   "metadata": {
    "collapsed": false,
    "deletable": true,
    "editable": true
   },
   "outputs": [
    {
     "data": {
      "image/png": "[encoded data removed]",
      "text/plain": [
       "<matplotlib.figure.Figure at 0x230112f2748>"
      ]
     },
     "metadata": {},
     "output_type": "display_data"
    }
   ],
   "source": [
    "#this plot shows for weekday\n",
    "pick_up_weekday = pd.to_datetime(clean_January[\"pickup_datetime\"].loc[clean_January[\"isWeekend\"] == 0], format = '%d/%m/%y %H:%M').dt.hour\n",
    "pick_up_weekday.plot.hist(bins = [0,6,9,12,16,20,24], xticks = [0,6,9,12,16,20,24])\n",
    "plt.title(\"Weekday Trip\")\n",
    "plt.show()"
   ]
  },
  {
   "cell_type": "markdown",
   "metadata": {
    "deletable": true,
    "editable": true
   },
   "source": [
    "# Answer to 3"
   ]
  },
  {
   "cell_type": "code",
   "execution_count": 22,
   "metadata": {
    "collapsed": true,
    "deletable": true,
    "editable": true
   },
   "outputs": [],
   "source": [
    "#in this part we use bar chart to show the mean trpi ratio in each hour from 0 to 23"
   ]
  },
  {
   "cell_type": "code",
   "execution_count": 23,
   "metadata": {
    "collapsed": false,
    "deletable": true,
    "editable": true
   },
   "outputs": [],
   "source": [
    "from numpy import arange\n",
    "\n",
    "#create the hour series\n",
    "pickup_hour = pd.to_datetime(clean_January[\"pickup_datetime\"], format = '%d/%m/%y %H:%M').dt.hour\n",
    "#calculate income efficiency\n",
    "income_efficiency = clean_January[\"payment_amount\"] / clean_January[\"duration\"]\n",
    "\n",
    "#insert data into framework\n",
    "clean_January.insert(7, \"income efficiency\", income_efficiency)\n",
    "clean_January.insert(8, \"hour\", pickup_hour)\n"
   ]
  },
  {
   "cell_type": "code",
   "execution_count": 24,
   "metadata": {
    "collapsed": false,
    "deletable": true,
    "editable": true,
    "scrolled": false
   },
   "outputs": [
    {
     "data": {
      "image/png": "[encoded data removed]",
      "text/plain": [
       "<matplotlib.figure.Figure at 0x230114b2080>"
      ]
     },
     "metadata": {},
     "output_type": "display_data"
    }
   ],
   "source": [
    "#list that store mean for each hour\n",
    "mean_list = []\n",
    "for i in range(24):\n",
    "    #extract the data at that hour\n",
    "    hour_list = clean_January.loc[(clean_January['hour'] == i)]\n",
    "    #read the income efficiency at that hour, find the mean\n",
    "    mean_by_hour = hour_list[\"income efficiency\"].mean()\n",
    "    #add mean into list\n",
    "    mean_list.append(mean_by_hour)\n",
    "\n",
    "plt.bar(arange(len(mean_list)), mean_list)\n",
    "plt.xticks([x for x in range(24)])\n",
    "plt.title(\"mean of income efficiency at each hour\")\n",
    "plt.show()"
   ]
  },
  {
   "cell_type": "code",
   "execution_count": null,
   "metadata": {
    "collapsed": true,
    "deletable": true,
    "editable": true
   },
   "outputs": [],
   "source": []
  }
 ],
 "metadata": {
  "anaconda-cloud": {},
  "kernelspec": {
   "display_name": "Python 3",
   "language": "python",
   "name": "python3"
  },
  "language_info": {
   "codemirror_mode": {
    "name": "ipython",
    "version": 3
   },
   "file_extension": ".py",
   "mimetype": "text/x-python",
   "name": "python",
   "nbconvert_exporter": "python",
   "pygments_lexer": "ipython3",
   "version": "3.5.2"
  }
 },
 "nbformat": 4,
 "nbformat_minor": 0
}
